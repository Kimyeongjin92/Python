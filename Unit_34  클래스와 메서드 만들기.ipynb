{
 "cells": [
  {
   "cell_type": "code",
   "execution_count": null,
   "metadata": {},
   "outputs": [],
   "source": [
    "#       기사(Knight)\n",
    "#    특징         작업\n",
    "# (attribute) | (method)\n",
    "#    HP,MP    |   베기\n",
    "#  물리,마법  |  찌르기\n",
    "#  (캡슐화):  |\n",
    "#  변경불가능 |\n",
    "\n",
    "#  즉, class에서는 attribute와 method로 구성되어 있다."
   ]
  }
 ],
 "metadata": {
  "kernelspec": {
   "display_name": "Python 3",
   "language": "python",
   "name": "python3"
  },
  "language_info": {
   "codemirror_mode": {
    "name": "ipython",
    "version": 3
   },
   "file_extension": ".py",
   "mimetype": "text/x-python",
   "name": "python",
   "nbconvert_exporter": "python",
   "pygments_lexer": "ipython3",
   "version": "3.7.3"
  }
 },
 "nbformat": 4,
 "nbformat_minor": 2
}
