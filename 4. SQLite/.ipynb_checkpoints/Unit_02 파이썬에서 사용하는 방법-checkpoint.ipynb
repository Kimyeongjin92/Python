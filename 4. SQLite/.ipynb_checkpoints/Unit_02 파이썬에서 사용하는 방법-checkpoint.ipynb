{
 "cells": [
  {
   "cell_type": "markdown",
   "metadata": {},
   "source": [
    "# [파이썬에서 사용하는 방법]"
   ]
  },
  {
   "cell_type": "code",
   "execution_count": 1,
   "metadata": {},
   "outputs": [],
   "source": [
    "import sqlite3"
   ]
  },
  {
   "cell_type": "markdown",
   "metadata": {},
   "source": [
    "1. DB에 접속(SQLite에서 new database를 생성한다. test.db)\n",
    "2. 테이블하고 내가 작업할 영역을 선택한다.\n",
    "3. mysql에 접속하기 위해 ip address와 hostname port번호 username password 같은 것이 필요하다."
   ]
  },
  {
   "cell_type": "markdown",
   "metadata": {},
   "source": [
    "# <span style='color:teal'>1. 데이터베이스 접속</span>"
   ]
  },
  {
   "cell_type": "code",
   "execution_count": 2,
   "metadata": {},
   "outputs": [],
   "source": [
    "conn = sqlite3.connect('./test.db')    # 1. DB에 접속\n",
    "#conn = sqlite3.connect(':memory:')    # 메모리 DB 접속(일회성)\n",
    "# 메모리에 올리면서 서버에서 데이터를 가져와서 메모리에 작업하고 \n",
    "#다 하고 메모리에 있는것을 서버로 올리는 것"
   ]
  },
  {
   "cell_type": "markdown",
   "metadata": {},
   "source": [
    "# <span style='color:teal'>2. 테이블 생성</span>"
   ]
  },
  {
   "cell_type": "code",
   "execution_count": 3,
   "metadata": {},
   "outputs": [
    {
     "data": {
      "text/plain": [
       "<sqlite3.Cursor at 0x646ece0>"
      ]
     },
     "execution_count": 3,
     "metadata": {},
     "output_type": "execute_result"
    }
   ],
   "source": [
    "cur = conn.cursor() # 2. 테이블하고 내가 작업할 영역을 선택한다. connection을 만들고 cursor\n",
    "cur.execute('CREATE TABLE IF NOT EXISTS Eagles \\\n",
    "    (back_no INT NOT NULL, \\\n",
    "     name TEXT, \\\n",
    "     position TEXT, \\\n",
    "     hands TEXT, \\\n",
    "     highschool TEXT, \\\n",
    "     height INT, \\\n",
    "     PRIMARY KEY(back_no));')"
   ]
  },
  {
   "cell_type": "markdown",
   "metadata": {},
   "source": [
    "# <span style='color:teal'>3. 데이터 삽입</span>"
   ]
  },
  {
   "cell_type": "code",
   "execution_count": 4,
   "metadata": {
    "scrolled": true
   },
   "outputs": [
    {
     "ename": "IntegrityError",
     "evalue": "UNIQUE constraint failed: Eagles.back_no",
     "output_type": "error",
     "traceback": [
      "\u001b[1;31m---------------------------------------------------------------------------\u001b[0m",
      "\u001b[1;31mIntegrityError\u001b[0m                            Traceback (most recent call last)",
      "\u001b[1;32m<ipython-input-4-e63c640a9d92>\u001b[0m in \u001b[0;36m<module>\u001b[1;34m\u001b[0m\n\u001b[0;32m      2\u001b[0m cur.execute(\"INSERT INTO Eagles VALUES \\\n\u001b[0;32m      3\u001b[0m     \u001b[1;33m(\u001b[0m\u001b[1;36m1\u001b[0m\u001b[1;33m,\u001b[0m \u001b[1;34m'하주석'\u001b[0m\u001b[1;33m,\u001b[0m \u001b[1;34m'내야수'\u001b[0m\u001b[1;33m,\u001b[0m \u001b[1;34m'우투좌타'\u001b[0m\u001b[1;33m,\u001b[0m \u001b[1;34m'신일고'\u001b[0m\u001b[1;33m,\u001b[0m \u001b[1;36m184\u001b[0m\u001b[1;33m)\u001b[0m\u001b[1;33m,\u001b[0m\u001b[0;31m \u001b[0m\u001b[0;31m\\\u001b[0m\u001b[1;33m\u001b[0m\u001b[1;33m\u001b[0m\u001b[0m\n\u001b[1;32m----> 4\u001b[1;33m     (28, '양성우', '외야수', '우투좌타', '충암고', 177);\")\n\u001b[0m",
      "\u001b[1;31mIntegrityError\u001b[0m: UNIQUE constraint failed: Eagles.back_no"
     ]
    }
   ],
   "source": [
    "cur = conn.cursor()\n",
    "cur.execute(\"INSERT INTO Eagles VALUES \\\n",
    "    (1, '하주석', '내야수', '우투좌타', '신일고', 184), \\\n",
    "    (28, '양성우', '외야수', '우투좌타', '충암고', 177);\")"
   ]
  },
  {
   "cell_type": "markdown",
   "metadata": {},
   "source": [
    "# <span style='color:teal'>4. 변경사항 저장</span>"
   ]
  },
  {
   "cell_type": "code",
   "execution_count": 5,
   "metadata": {},
   "outputs": [],
   "source": [
    "conn.commit()"
   ]
  },
  {
   "cell_type": "markdown",
   "metadata": {},
   "source": [
    "# <span style='color:teal'>5. 데이터 삽입(파일에서 읽어서 데이터베이스에 쓰기)</span>"
   ]
  },
  {
   "cell_type": "code",
   "execution_count": 6,
   "metadata": {
    "scrolled": false
   },
   "outputs": [
    {
     "data": {
      "text/html": [
       "<div>\n",
       "<style scoped>\n",
       "    .dataframe tbody tr th:only-of-type {\n",
       "        vertical-align: middle;\n",
       "    }\n",
       "\n",
       "    .dataframe tbody tr th {\n",
       "        vertical-align: top;\n",
       "    }\n",
       "\n",
       "    .dataframe thead th {\n",
       "        text-align: right;\n",
       "    }\n",
       "</style>\n",
       "<table border=\"1\" class=\"dataframe\">\n",
       "  <thead>\n",
       "    <tr style=\"text-align: right;\">\n",
       "      <th></th>\n",
       "      <th>back_no</th>\n",
       "      <th>name</th>\n",
       "      <th>position</th>\n",
       "      <th>hands</th>\n",
       "      <th>highschool</th>\n",
       "      <th>height</th>\n",
       "    </tr>\n",
       "  </thead>\n",
       "  <tbody>\n",
       "    <tr>\n",
       "      <th>0</th>\n",
       "      <td>17</td>\n",
       "      <td>'김범수'</td>\n",
       "      <td>'투수'</td>\n",
       "      <td>'좌투좌타'</td>\n",
       "      <td>'천안북일고'</td>\n",
       "      <td>181</td>\n",
       "    </tr>\n",
       "    <tr>\n",
       "      <th>1</th>\n",
       "      <td>38</td>\n",
       "      <td>'안영명'</td>\n",
       "      <td>'투수'</td>\n",
       "      <td>'우투우타'</td>\n",
       "      <td>'천안북일고'</td>\n",
       "      <td>183</td>\n",
       "    </tr>\n",
       "    <tr>\n",
       "      <th>2</th>\n",
       "      <td>36</td>\n",
       "      <td>'장민재'</td>\n",
       "      <td>'투수'</td>\n",
       "      <td>'우투우타'</td>\n",
       "      <td>'광주제일고'</td>\n",
       "      <td>184</td>\n",
       "    </tr>\n",
       "    <tr>\n",
       "      <th>3</th>\n",
       "      <td>13</td>\n",
       "      <td>'최재훈'</td>\n",
       "      <td>'포수'</td>\n",
       "      <td>'우투우타'</td>\n",
       "      <td>'덕수고'</td>\n",
       "      <td>178</td>\n",
       "    </tr>\n",
       "    <tr>\n",
       "      <th>4</th>\n",
       "      <td>52</td>\n",
       "      <td>'김태균'</td>\n",
       "      <td>'내야수'</td>\n",
       "      <td>'우투우타'</td>\n",
       "      <td>'천안북일고'</td>\n",
       "      <td>185</td>\n",
       "    </tr>\n",
       "    <tr>\n",
       "      <th>5</th>\n",
       "      <td>7</td>\n",
       "      <td>'송광민'</td>\n",
       "      <td>'내야수'</td>\n",
       "      <td>'우투우타'</td>\n",
       "      <td>'공주고'</td>\n",
       "      <td>184</td>\n",
       "    </tr>\n",
       "    <tr>\n",
       "      <th>6</th>\n",
       "      <td>50</td>\n",
       "      <td>'이성열'</td>\n",
       "      <td>'내야수'</td>\n",
       "      <td>'우투좌타'</td>\n",
       "      <td>'순천효고'</td>\n",
       "      <td>185</td>\n",
       "    </tr>\n",
       "    <tr>\n",
       "      <th>7</th>\n",
       "      <td>43</td>\n",
       "      <td>'정은원'</td>\n",
       "      <td>'내야수'</td>\n",
       "      <td>'우투좌타'</td>\n",
       "      <td>'인천고'</td>\n",
       "      <td>177</td>\n",
       "    </tr>\n",
       "    <tr>\n",
       "      <th>8</th>\n",
       "      <td>8</td>\n",
       "      <td>'정근우'</td>\n",
       "      <td>'외야수'</td>\n",
       "      <td>'우투우타'</td>\n",
       "      <td>'부산고'</td>\n",
       "      <td>172</td>\n",
       "    </tr>\n",
       "    <tr>\n",
       "      <th>9</th>\n",
       "      <td>30</td>\n",
       "      <td>'호잉'</td>\n",
       "      <td>'외야수'</td>\n",
       "      <td>'우투좌타'</td>\n",
       "      <td>'외국고'</td>\n",
       "      <td>190</td>\n",
       "    </tr>\n",
       "  </tbody>\n",
       "</table>\n",
       "</div>"
      ],
      "text/plain": [
       "   back_no   name position   hands highschool  height\n",
       "0       17  '김범수'     '투수'  '좌투좌타'    '천안북일고'     181\n",
       "1       38  '안영명'     '투수'  '우투우타'    '천안북일고'     183\n",
       "2       36  '장민재'     '투수'  '우투우타'    '광주제일고'     184\n",
       "3       13  '최재훈'     '포수'  '우투우타'      '덕수고'     178\n",
       "4       52  '김태균'    '내야수'  '우투우타'    '천안북일고'     185\n",
       "5        7  '송광민'    '내야수'  '우투우타'      '공주고'     184\n",
       "6       50  '이성열'    '내야수'  '우투좌타'     '순천효고'     185\n",
       "7       43  '정은원'    '내야수'  '우투좌타'      '인천고'     177\n",
       "8        8  '정근우'    '외야수'  '우투우타'      '부산고'     172\n",
       "9       30   '호잉'    '외야수'  '우투좌타'      '외국고'     190"
      ]
     },
     "execution_count": 6,
     "metadata": {},
     "output_type": "execute_result"
    }
   ],
   "source": [
    "import pandas as pd\n",
    "players = pd.read_csv('./players.csv', encoding='EUC-KR')\n",
    "players"
   ]
  },
  {
   "cell_type": "code",
   "execution_count": 8,
   "metadata": {
    "scrolled": true
   },
   "outputs": [
    {
     "ename": "IntegrityError",
     "evalue": "UNIQUE constraint failed: Eagles.back_no",
     "output_type": "error",
     "traceback": [
      "\u001b[1;31m---------------------------------------------------------------------------\u001b[0m",
      "\u001b[1;31mIntegrityError\u001b[0m                            Traceback (most recent call last)",
      "\u001b[1;32m<ipython-input-8-c54fb6f96b10>\u001b[0m in \u001b[0;36m<module>\u001b[1;34m\u001b[0m\n\u001b[0;32m      5\u001b[0m                       \u001b[0mplayers\u001b[0m\u001b[1;33m.\u001b[0m\u001b[0miloc\u001b[0m\u001b[1;33m[\u001b[0m\u001b[0mi\u001b[0m\u001b[1;33m,\u001b[0m\u001b[1;36m1\u001b[0m\u001b[1;33m]\u001b[0m\u001b[1;33m,\u001b[0m \u001b[0mplayers\u001b[0m\u001b[1;33m.\u001b[0m\u001b[0miloc\u001b[0m\u001b[1;33m[\u001b[0m\u001b[0mi\u001b[0m\u001b[1;33m,\u001b[0m\u001b[1;36m2\u001b[0m\u001b[1;33m]\u001b[0m\u001b[1;33m,\u001b[0m\u001b[1;33m\u001b[0m\u001b[1;33m\u001b[0m\u001b[0m\n\u001b[0;32m      6\u001b[0m                       \u001b[0mplayers\u001b[0m\u001b[1;33m.\u001b[0m\u001b[0miloc\u001b[0m\u001b[1;33m[\u001b[0m\u001b[0mi\u001b[0m\u001b[1;33m,\u001b[0m\u001b[1;36m3\u001b[0m\u001b[1;33m]\u001b[0m\u001b[1;33m,\u001b[0m \u001b[0mplayers\u001b[0m\u001b[1;33m.\u001b[0m\u001b[0miloc\u001b[0m\u001b[1;33m[\u001b[0m\u001b[0mi\u001b[0m\u001b[1;33m,\u001b[0m\u001b[1;36m4\u001b[0m\u001b[1;33m]\u001b[0m\u001b[1;33m,\u001b[0m\u001b[1;33m\u001b[0m\u001b[1;33m\u001b[0m\u001b[0m\n\u001b[1;32m----> 7\u001b[1;33m                       int(players.iloc[i,5])))\n\u001b[0m\u001b[0;32m      8\u001b[0m \u001b[0mconn\u001b[0m\u001b[1;33m.\u001b[0m\u001b[0mcommit\u001b[0m\u001b[1;33m(\u001b[0m\u001b[1;33m)\u001b[0m\u001b[1;33m\u001b[0m\u001b[1;33m\u001b[0m\u001b[0m\n",
      "\u001b[1;31mIntegrityError\u001b[0m: UNIQUE constraint failed: Eagles.back_no"
     ]
    }
   ],
   "source": [
    "cur = conn.cursor()\n",
    "sql = 'INSERT INTO Eagles VALUES (?, ?, ?, ?, ?, ?);'\n",
    "# 밑에 sql의 자리에 그대로 넣어도 되지만 보통은 이렇게 따로 만들어서 해놓는다.\n",
    "# 프로그램에서 물음표 값을 채워넣는다.\n",
    "\n",
    "for i in range(10):\n",
    "    cur.execute(sql, (int(players.iloc[i,0]), \n",
    "                      players.iloc[i,1], players.iloc[i,2], \n",
    "                      players.iloc[i,3], players.iloc[i,4], \n",
    "                      int(players.iloc[i,5])))\n",
    "conn.commit()"
   ]
  },
  {
   "cell_type": "markdown",
   "metadata": {},
   "source": [
    "# <span style='color:teal'>6. 연결 닫기</span>"
   ]
  },
  {
   "cell_type": "code",
   "execution_count": null,
   "metadata": {},
   "outputs": [],
   "source": [
    "conn.close()"
   ]
  },
  {
   "cell_type": "markdown",
   "metadata": {},
   "source": [
    "# <span style='color:teal'>7. 테이블 삭제</span>"
   ]
  },
  {
   "cell_type": "code",
   "execution_count": null,
   "metadata": {
    "scrolled": true
   },
   "outputs": [],
   "source": [
    "cur = conn.cursor()\n",
    "cur.execute('DROP TABLE Eagles')"
   ]
  },
  {
   "cell_type": "markdown",
   "metadata": {},
   "source": [
    "# <span style='color:teal'>8. 데이터 조회</span>"
   ]
  },
  {
   "cell_type": "code",
   "execution_count": 9,
   "metadata": {},
   "outputs": [
    {
     "name": "stdout",
     "output_type": "stream",
     "text": [
      "(1, '하주석', '내야수', '우투좌타', '신일고', 184)\n",
      "(28, '양성우', '외야수', '우투좌타', '충암고', 177)\n",
      "(17, \"'김범수'\", \"'투수'\", \"'좌투좌타'\", \"'천안북일고'\", 181)\n",
      "(38, \"'안영명'\", \"'투수'\", \"'우투우타'\", \"'천안북일고'\", 183)\n",
      "(36, \"'장민재'\", \"'투수'\", \"'우투우타'\", \"'광주제일고'\", 184)\n",
      "(13, \"'최재훈'\", \"'포수'\", \"'우투우타'\", \"'덕수고'\", 178)\n",
      "(52, \"'김태균'\", \"'내야수'\", \"'우투우타'\", \"'천안북일고'\", 185)\n",
      "(7, \"'송광민'\", \"'내야수'\", \"'우투우타'\", \"'공주고'\", 184)\n",
      "(50, \"'이성열'\", \"'내야수'\", \"'우투좌타'\", \"'순천효고'\", 185)\n",
      "(43, \"'정은원'\", \"'내야수'\", \"'우투좌타'\", \"'인천고'\", 177)\n",
      "(8, \"'정근우'\", \"'외야수'\", \"'우투우타'\", \"'부산고'\", 172)\n",
      "(30, \"'호잉'\", \"'외야수'\", \"'우투좌타'\", \"'외국고'\", 190)\n"
     ]
    }
   ],
   "source": [
    "# 순회 조회\n",
    "cur = conn.cursor()\n",
    "cur.execute('SELECT * FROM Eagles')\n",
    "for row in cur:\n",
    "    print(row)\n",
    "# cur안의 데이터를 row로 하나씩 print\n",
    "# tuple로 읽혀진다."
   ]
  },
  {
   "cell_type": "code",
   "execution_count": null,
   "metadata": {},
   "outputs": [],
   "source": []
  }
 ],
 "metadata": {
  "kernelspec": {
   "display_name": "Python 3",
   "language": "python",
   "name": "python3"
  },
  "language_info": {
   "codemirror_mode": {
    "name": "ipython",
    "version": 3
   },
   "file_extension": ".py",
   "mimetype": "text/x-python",
   "name": "python",
   "nbconvert_exporter": "python",
   "pygments_lexer": "ipython3",
   "version": "3.7.3"
  }
 },
 "nbformat": 4,
 "nbformat_minor": 2
}
