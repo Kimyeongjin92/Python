{
 "cells": [
  {
   "cell_type": "markdown",
   "metadata": {},
   "source": [
    "- https://www.coffeebeankorea.com/store/store.asp"
   ]
  },
  {
   "cell_type": "code",
   "execution_count": 43,
   "metadata": {},
   "outputs": [],
   "source": [
    "import requests\n",
    "import json\n",
    "import pandas as pd\n",
    "from pandas.io.json import json_normalize"
   ]
  },
  {
   "cell_type": "code",
   "execution_count": 54,
   "metadata": {
    "scrolled": true
   },
   "outputs": [
    {
     "data": {
      "text/plain": [
       "\"[{  StoreNo : '341', StoreName : '서초동점', StoreTel : '02-3665-9507', StoreAddress : '서울특별시 서초구 반포대로70' , StoreOpendate : '월 - 금  07:30~22:00 | 주말/공휴일 08:00~22:00' , StoreLAT : '37.48669594836945', StoreLNG : '127.01053356053066', StoreShortDesc : '', StoreEmail : 'cbk431@coffeebeankorea.com' , StoreDecaffeine : '1' , StoreSoymilk : '1', StoreWifi : '1', StoreParking : '0', Storesmoking : '1' , StoreMachine : '0' , StoreCapsule : '1', StoreCake : '1', StoreDrive : '0', Distant : '', sort : '1' , StoreImage1 : '1_80.jpg', StoreImage2 : '신규매장_1.jpg', StoreImage3 : '3_75.jpg', StoreImage4 : '4_67.jpg', StoreImage5 : '5_47.jpg' , StoreImage6 : '6_8.jpg' },{  StoreNo : '336', StoreName : '교대법원점', StoreTel : '02- 3664-7716  ', StoreAddress : '서울 서초구 서초중앙로 156, 1층' , StoreOpendate : '월 - 금  07:30~23:00 | 주말/공휴일 08:00~23:00' , StoreLAT : '37.49563363637424', StoreLNG : '127.01353830115815', StoreShortDesc : '주차정보<br/>최초 30분 3천원<br/>이후 10분당 1천원', StoreEmail : 'cbk426@coffeebeankorea.com' , StoreD\""
      ]
     },
     "execution_count": 54,
     "metadata": {},
     "output_type": "execute_result"
    }
   ],
   "source": [
    "data = {\n",
    "    'StoreLocal':'서울'\n",
    "}\n",
    "    \n",
    "url = 'https://www.coffeebeankorea.com/store/store_data2.asp?lat=&lng=&chk1=0&chk2=0&chk3=0&chk4=0&chk5=0&chk6=0&chk7=0&chk8=0&chk9=0&keyword=&StoreLocal=%EC%84%9C%EC%9A%B8&StoreLocal2=&storeNo='\n",
    "r = requests.post(url, data=data)\n",
    "\n",
    "r.text[:1000] # 수신된 데이터의 앞부분만 확인\n"
   ]
  },
  {
   "cell_type": "code",
   "execution_count": null,
   "metadata": {},
   "outputs": [],
   "source": []
  }
 ],
 "metadata": {
  "kernelspec": {
   "display_name": "Python 3",
   "language": "python",
   "name": "python3"
  },
  "language_info": {
   "codemirror_mode": {
    "name": "ipython",
    "version": 3
   },
   "file_extension": ".py",
   "mimetype": "text/x-python",
   "name": "python",
   "nbconvert_exporter": "python",
   "pygments_lexer": "ipython3",
   "version": "3.7.3"
  }
 },
 "nbformat": 4,
 "nbformat_minor": 2
}
