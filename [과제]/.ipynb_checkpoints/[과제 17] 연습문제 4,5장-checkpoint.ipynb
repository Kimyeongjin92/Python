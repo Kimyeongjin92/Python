{
 "cells": [
  {
   "cell_type": "code",
   "execution_count": null,
   "metadata": {},
   "outputs": [],
   "source": [
    "# 1. 대칭수(palindrome)\n",
    "# 두 자리 수를 곱해 만들 수 있는 대칭 수 중 가장 큰 수는 9009(=91x99)\n",
    "\n",
    "def isPalindrome(a):\n",
    "    for i in range(len(a)//2):\n",
    "        if a[i] != a[-1-i]:\n",
    "            return False\n",
    "    return True\n",
    "\n",
    "def palindrome():\n",
    "    maxI = 0\n",
    "    maxK = 0\n",
    "    pal = []\n",
    "    for i in range(999, 101, -1):\n",
    "        for k in range(999, 101-i, -1):\n",
    "            value = i * k\n",
    "            if str(value) == str(value)[::-1]:\n",
    "                pal.append(value)\n",
    "                maxI = i\n",
    "                maxK = k\n",
    "                \n",
    "    print('세 자리 수 Palindrome 중 가장 큰 수는 : {0} x {1} = {2}'.format(maxI, maxK, max(pal)))"
   ]
  },
  {
   "cell_type": "code",
   "execution_count": null,
   "metadata": {},
   "outputs": [],
   "source": [
    "#2"
   ]
  },
  {
   "cell_type": "code",
   "execution_count": null,
   "metadata": {},
   "outputs": [],
   "source": [
    "#3"
   ]
  },
  {
   "cell_type": "code",
   "execution_count": null,
   "metadata": {},
   "outputs": [],
   "source": [
    "#4"
   ]
  },
  {
   "cell_type": "code",
   "execution_count": null,
   "metadata": {},
   "outputs": [],
   "source": [
    "#5"
   ]
  },
  {
   "cell_type": "code",
   "execution_count": null,
   "metadata": {},
   "outputs": [],
   "source": [
    "#6"
   ]
  }
 ],
 "metadata": {
  "kernelspec": {
   "display_name": "Python 3",
   "language": "python",
   "name": "python3"
  },
  "language_info": {
   "codemirror_mode": {
    "name": "ipython",
    "version": 3
   },
   "file_extension": ".py",
   "mimetype": "text/x-python",
   "name": "python",
   "nbconvert_exporter": "python",
   "pygments_lexer": "ipython3",
   "version": "3.7.3"
  }
 },
 "nbformat": 4,
 "nbformat_minor": 2
}
