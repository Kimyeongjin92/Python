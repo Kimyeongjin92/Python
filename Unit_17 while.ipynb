{
 "cells": [
  {
   "cell_type": "code",
   "execution_count": null,
   "metadata": {},
   "outputs": [],
   "source": []
  },
  {
   "cell_type": "code",
   "execution_count": null,
   "metadata": {},
   "outputs": [],
   "source": []
  },
  {
   "cell_type": "code",
   "execution_count": null,
   "metadata": {},
   "outputs": [],
   "source": [
    "# 파이썬에서는 library 대신에 import를 사용한다.\n",
    "# while 반복문은 결과가 True이면 계속 반복하고 False이면 반복을 끝낸다."
   ]
  },
  {
   "cell_type": "code",
   "execution_count": 9,
   "metadata": {},
   "outputs": [
    {
     "name": "stdout",
     "output_type": "stream",
     "text": [
      "5\n",
      "6\n",
      "4\n",
      "1\n",
      "2\n",
      "3\n",
      "1\n",
      "5\n",
      "1\n",
      "4\n",
      "2\n",
      "3\n"
     ]
    }
   ],
   "source": [
    "import random\n",
    "random.random()\n",
    "\n",
    "random.randint(1,6)\n",
    "for i in range(10):\n",
    "    random.randint(1,6)\n",
    "    \n",
    "import random as rd\n",
    "for i in range(10):\n",
    "    print(rd.randint(1,6))\n",
    "    \n"
   ]
  },
  {
   "cell_type": "code",
   "execution_count": 95,
   "metadata": {},
   "outputs": [
    {
     "name": "stdout",
     "output_type": "stream",
     "text": [
      "2\n",
      "1\n",
      "4\n",
      "2\n",
      "6\n",
      "4\n",
      "3\n"
     ]
    }
   ],
   "source": [
    "i = 0\n",
    "while i != 3:\n",
    "    i = rd.randint(1,6)\n",
    "    print(i)"
   ]
  },
  {
   "cell_type": "code",
   "execution_count": 66,
   "metadata": {},
   "outputs": [
    {
     "name": "stdout",
     "output_type": "stream",
     "text": [
      "2\n",
      "5\n",
      "3\n"
     ]
    }
   ],
   "source": [
    "while True:\n",
    "    dice = rd.randint(1,6)\n",
    "    print(dice)\n",
    "    if dice  == 3:\n",
    "        break"
   ]
  },
  {
   "cell_type": "code",
   "execution_count": 140,
   "metadata": {},
   "outputs": [
    {
     "name": "stdout",
     "output_type": "stream",
     "text": [
      "5 6 1\n",
      "total count = 1\n"
     ]
    }
   ],
   "source": [
    "# 주사위 2개를 던져서\n",
    "# 눈금의 합이 10 이면 탈출\n",
    "count = 0\n",
    "while True:\n",
    "    dice1 = rd.randint(1,6)\n",
    "    dice2 = rd.randint(1,6) \n",
    "    count += 1\n",
    "    print(dice1,dice2,count)\n",
    "    if dice1+dice2 >= 10:\n",
    "        break\n",
    "        \n",
    "print(\"total count =\", count)"
   ]
  },
  {
   "cell_type": "code",
   "execution_count": 145,
   "metadata": {},
   "outputs": [
    {
     "name": "stdout",
     "output_type": "stream",
     "text": [
      "4 1\n",
      "8 2\n",
      "6 3\n",
      "10 4\n",
      "total count = 4\n"
     ]
    }
   ],
   "source": [
    "count = 0\n",
    "while True:\n",
    "    dice1 = rd.randint(1,6)\n",
    "    dice2 = rd.randint(1,6)\n",
    "    dice  = dice2+dice1\n",
    "    count +=1\n",
    "    print(dice,count)\n",
    "    if dice == 10:\n",
    "        break\n",
    "print(\"total count =\", count)"
   ]
  }
 ],
 "metadata": {
  "kernelspec": {
   "display_name": "Python 3",
   "language": "python",
   "name": "python3"
  },
  "language_info": {
   "codemirror_mode": {
    "name": "ipython",
    "version": 3
   },
   "file_extension": ".py",
   "mimetype": "text/x-python",
   "name": "python",
   "nbconvert_exporter": "python",
   "pygments_lexer": "ipython3",
   "version": "3.7.3"
  }
 },
 "nbformat": 4,
 "nbformat_minor": 2
}
