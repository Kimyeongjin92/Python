{
 "cells": [
  {
   "cell_type": "markdown",
   "metadata": {},
   "source": [
    "# Unit17: while 반복문"
   ]
  },
  {
   "cell_type": "code",
   "execution_count": null,
   "metadata": {},
   "outputs": [],
   "source": [
    "# 파이썬에서는 library 대신에 import를 사용한다.\n",
    "# while 반복문은 결과가 True면 계속 반복하고 False면 반복을 끝낸다.\n",
    "# 조건문에 True가 들어가면 무한루프가 된다.\n",
    "# 1.1, not 0 과 같이 True로 취급하면 무한 루프가 된다."
   ]
  },
  {
   "cell_type": "code",
   "execution_count": null,
   "metadata": {
    "scrolled": true
   },
   "outputs": [],
   "source": []
  },
  {
   "cell_type": "code",
   "execution_count": null,
   "metadata": {},
   "outputs": [],
   "source": [
    "import random\n",
    "random.random()\n",
    "\n",
    "random.randint(1,6)\n",
    "for i in range(10):\n",
    "    random.randint(1,6)\n",
    "    \n",
    "import random as rd\n",
    "for i in range(10):\n",
    "    print(rd.randint(1,6))\n",
    "    \n"
   ]
  },
  {
   "cell_type": "code",
   "execution_count": null,
   "metadata": {},
   "outputs": [],
   "source": [
    "i = 0\n",
    "while i != 3:\n",
    "    i = rd.randint(1,6)\n",
    "    print(i)"
   ]
  },
  {
   "cell_type": "code",
   "execution_count": null,
   "metadata": {},
   "outputs": [],
   "source": [
    "while True:\n",
    "    dice = rd.randint(1,6)\n",
    "    print(dice)\n",
    "    if dice  == 3:\n",
    "        break"
   ]
  },
  {
   "cell_type": "code",
   "execution_count": null,
   "metadata": {},
   "outputs": [],
   "source": [
    "# 주사위 2개를 던져서\n",
    "# 눈금의 합이 10 이면 탈출\n",
    "count = 0\n",
    "while True:\n",
    "    dice1 = rd.randint(1,6)\n",
    "    dice2 = rd.randint(1,6) \n",
    "    count += 1\n",
    "    print(dice1,dice2,count)\n",
    "    if dice1+dice2 >= 10:\n",
    "        break\n",
    "        \n",
    "print(\"total count =\", count)"
   ]
  },
  {
   "cell_type": "code",
   "execution_count": null,
   "metadata": {},
   "outputs": [],
   "source": [
    "count = 0\n",
    "while True:\n",
    "    dice1 = rd.randint(1,6)\n",
    "    dice2 = rd.randint(1,6)\n",
    "    dice  = dice2+dice1\n",
    "    count +=1\n",
    "    print(dice,count)\n",
    "    if dice == 10:\n",
    "        break\n",
    "print(\"total count =\", count)"
   ]
  },
  {
   "cell_type": "markdown",
   "metadata": {},
   "source": [
    "### #연습문제"
   ]
  },
  {
   "cell_type": "code",
   "execution_count": null,
   "metadata": {},
   "outputs": [],
   "source": [
    "i = 2\n",
    "k = 5\n",
    "while i<=32 or k >=1: \n",
    "    print(i,k)\n",
    "    i *= 2\n",
    "    k -= 1"
   ]
  },
  {
   "cell_type": "markdown",
   "metadata": {},
   "source": [
    "### #심사문제"
   ]
  },
  {
   "cell_type": "code",
   "execution_count": 11,
   "metadata": {},
   "outputs": [
    {
     "name": "stdout",
     "output_type": "stream",
     "text": [
      "13500\n",
      "12150\n",
      "10800\n",
      "9450\n",
      "8100\n",
      "6750\n",
      "5400\n",
      "4050\n",
      "2700\n",
      "1350\n",
      "0\n"
     ]
    }
   ],
   "source": [
    "i = int(input())\n",
    "\n",
    "while 1350 <= i:\n",
    "    i -= 1350 \n",
    "    print(i)"
   ]
  }
 ],
 "metadata": {
  "kernelspec": {
   "display_name": "Python 3",
   "language": "python",
   "name": "python3"
  },
  "language_info": {
   "codemirror_mode": {
    "name": "ipython",
    "version": 3
   },
   "file_extension": ".py",
   "mimetype": "text/x-python",
   "name": "python",
   "nbconvert_exporter": "python",
   "pygments_lexer": "ipython3",
   "version": "3.7.3"
  }
 },
 "nbformat": 4,
 "nbformat_minor": 2
}
