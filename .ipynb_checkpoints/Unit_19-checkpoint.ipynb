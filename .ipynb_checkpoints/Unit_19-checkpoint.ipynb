{
 "cells": [
  {
   "cell_type": "code",
   "execution_count": 11,
   "metadata": {},
   "outputs": [
    {
     "name": "stdout",
     "output_type": "stream",
     "text": [
      "숫자들을 입력하세요>5,4,21,3,15, 2, 95, 11, 43, 76\n",
      "[2, 3, 4, 5, 11, 15, 21, 43, 76, 95]\n",
      "[95, 76, 43, 21, 15, 11, 5, 4, 3, 2]\n"
     ]
    }
   ],
   "source": [
    "#bubble_sort\n",
    "#오른차순으로 버블 소트\n",
    "# 5,4,21,3,15, 2, 95, 11, 43, 76\n",
    "\n",
    "aList = list(map(int,input('숫자들을 입력하세요>').split(',')))\n",
    "\n",
    "for i in range(0,len(aList)-1):\n",
    "    for k in range(i+1,len(aList)):\n",
    "        if aList[i] > aList[k]:\n",
    "            aList[i], aList[k] = aList[k], aList[i]\n",
    "print(aList)\n",
    "\n",
    "for i in range(0,len(aList)-1):\n",
    "    for k in range(i+1,len(aList)):\n",
    "        if aList[i] < aList[k]:\n",
    "            aList[i], aList[k] = aList[k], aList[i]\n",
    "print(aList)"
   ]
  },
  {
   "cell_type": "code",
   "execution_count": 13,
   "metadata": {},
   "outputs": [
    {
     "name": "stdout",
     "output_type": "stream",
     "text": [
      "0\n",
      "0 \n",
      "1\n",
      "0 1 \n",
      "2\n",
      "0 1 2 \n",
      "3\n",
      "0 1 2 3 \n",
      "4\n",
      "0 1 2 3 4 \n"
     ]
    }
   ],
   "source": [
    "for i in range(5):\n",
    "    print(i)\n",
    "    for k in range(5):\n",
    "        print(k,end=' ')\n",
    "        if k == i:\n",
    "            break\n",
    "    print()\n",
    "    \n",
    "#break는 바로 위의 것까지만 먹는다.\n"
   ]
  }
 ],
 "metadata": {
  "kernelspec": {
   "display_name": "Python 3",
   "language": "python",
   "name": "python3"
  },
  "language_info": {
   "codemirror_mode": {
    "name": "ipython",
    "version": 3
   },
   "file_extension": ".py",
   "mimetype": "text/x-python",
   "name": "python",
   "nbconvert_exporter": "python",
   "pygments_lexer": "ipython3",
   "version": "3.7.3"
  }
 },
 "nbformat": 4,
 "nbformat_minor": 2
}
