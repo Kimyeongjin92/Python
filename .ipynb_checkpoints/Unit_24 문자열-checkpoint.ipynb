{
 "cells": [
  {
   "cell_type": "markdown",
   "metadata": {},
   "source": [
    "# Unit24: 문자열"
   ]
  },
  {
   "cell_type": "code",
   "execution_count": 5,
   "metadata": {},
   "outputs": [
    {
     "name": "stdout",
     "output_type": "stream",
     "text": [
      "Hello, Python\n",
      "Hello, Python!\n",
      "H2ll4, Pyth4n!\n"
     ]
    }
   ],
   "source": [
    "# R에서는  (함수) _gsub\n",
    "# python은 (method) = 자기자신을 바꿔준다...?\n",
    "print('Hello, world'.replace('world','Python'))\n",
    "\n",
    "s = 'Hello, world!'\n",
    "s = s.replace('world','Python')\n",
    "print(s)\n",
    "\n",
    "table = str.maketrans('aeiou','12345')\n",
    "print(s.translate(table))"
   ]
  },
  {
   "cell_type": "code",
   "execution_count": 38,
   "metadata": {
    "scrolled": true
   },
   "outputs": [
    {
     "name": "stdout",
     "output_type": "stream",
     "text": [
      "['A', 'B', 'C', 'D', 'E']\n",
      " python\n",
      "python\n",
      "PYTHON\n"
     ]
    },
    {
     "data": {
      "text/plain": [
       "'I am Ironman'"
      ]
     },
     "execution_count": 38,
     "metadata": {},
     "output_type": "execute_result"
    }
   ],
   "source": [
    "# 리스트의 각 element들을 연결해준다.\n",
    "f = ['a','b','c','d','e']\n",
    "'-'.join(f)\n",
    "\n",
    "g=[]\n",
    "for item in f:\n",
    "    g.append(item.upper())\n",
    "print(g)\n",
    "\n",
    "import string\n",
    "string.punctuation\n",
    "\n",
    "print('^^^, python.!!!'.strip(string.punctuation))\n",
    "print('^^^, python.!!!'.strip(string.punctuation+' '))\n",
    "print('^^^, python.!!!'.strip(string.punctuation+' ').strip().upper())\n",
    "# R에서는 %>% (pipe파이프) python에서는 (method chaining)\n",
    "\n",
    "#정렬하기.\n",
    "'python'.ljust(10), \n",
    "'python'.rjust(10), \n",
    "'python'.center(10)\n",
    "\n",
    "# 문자열 왼쪽에 0 채우기\n",
    "\n",
    "# 문자열 위치 찾기.\n",
    "# find 는 제일 앞에있는 것을 기준으로 찾아준다. + '-1'은 문자가 NO 포함 뜻."
   ]
  },
  {
   "cell_type": "code",
   "execution_count": 39,
   "metadata": {},
   "outputs": [
    {
     "data": {
      "text/plain": [
       "'I am Ironman'"
      ]
     },
     "execution_count": 39,
     "metadata": {},
     "output_type": "execute_result"
    }
   ],
   "source": [
    "# 서식 지정자로 문자열 넣기\n",
    "# %s (string의 s 이며 s자리에 ''의 글자를 넣어라)\n",
    "'I am %s' % 'Ironman'\n",
    "name = 'Ironman'\n",
    "'I am '"
   ]
  }
 ],
 "metadata": {
  "kernelspec": {
   "display_name": "Python 3",
   "language": "python",
   "name": "python3"
  },
  "language_info": {
   "codemirror_mode": {
    "name": "ipython",
    "version": 3
   },
   "file_extension": ".py",
   "mimetype": "text/x-python",
   "name": "python",
   "nbconvert_exporter": "python",
   "pygments_lexer": "ipython3",
   "version": "3.7.3"
  }
 },
 "nbformat": 4,
 "nbformat_minor": 2
}
