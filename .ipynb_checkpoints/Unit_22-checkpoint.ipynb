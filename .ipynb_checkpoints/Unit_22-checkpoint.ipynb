{
 "cells": [
  {
   "cell_type": "code",
   "execution_count": 1,
   "metadata": {},
   "outputs": [
    {
     "data": {
      "text/plain": [
       "[10, 20, 30, 500]"
      ]
     },
     "execution_count": 1,
     "metadata": {},
     "output_type": "execute_result"
    }
   ],
   "source": [
    "#리스트에 요소 하나 추가하기\n",
    "a = [10,20,30]\n",
    "a.append(500)\n",
    "print(a)\n",
    "\n",
    "b = [10,20,30]\n",
    "b.append([500,600])\n",
    "print(b,len(b))"
   ]
  },
  {
   "cell_type": "code",
   "execution_count": 32,
   "metadata": {},
   "outputs": [
    {
     "name": "stdout",
     "output_type": "stream",
     "text": [
      "[10, 20, 30, 500, 600] 5\n"
     ]
    }
   ],
   "source": [
    "c = [10,20,30]\n",
    "c.extend([500,600])\n",
    "print(c,len(c))"
   ]
  },
  {
   "cell_type": "code",
   "execution_count": 21,
   "metadata": {},
   "outputs": [
    {
     "name": "stdout",
     "output_type": "stream",
     "text": [
      "[10, 20, 30, 1000]\n",
      "[10, [500, 600], 20, 30]\n",
      "[10, 500, 600, 20, 30]\n"
     ]
    }
   ],
   "source": [
    "d = [10,20,30,40,50,60,70,80,90]\n",
    "d.insert(2,1000)\n",
    "print(d)\n",
    "\n",
    "e = [10,20,30]\n",
    "e.insert(len(e),1000)\n",
    "print(e)\n",
    "\n",
    "e = [10,20,30] \n",
    "e.insert(1,[500,600])\n",
    "print(e)\n",
    "\n",
    "e = [10,20,30] \n",
    "e[1:1]=[500,600]\n",
    "print(e)"
   ]
  },
  {
   "cell_type": "code",
   "execution_count": 31,
   "metadata": {
    "scrolled": true
   },
   "outputs": [
    {
     "name": "stdout",
     "output_type": "stream",
     "text": [
      "[10, 20, 30, 40]\n",
      "[20, 30, 40, 50]\n"
     ]
    }
   ],
   "source": [
    "a = [10,20,30,40,50]\n",
    "a.pop()\n",
    "print(a)\n",
    "\n",
    "a = [10,20,30,40,50]\n",
    "a.pop(0)\n",
    "print(a)"
   ]
  },
  {
   "cell_type": "code",
   "execution_count": 43,
   "metadata": {},
   "outputs": [
    {
     "data": {
      "text/plain": [
       "2"
      ]
     },
     "execution_count": 43,
     "metadata": {},
     "output_type": "execute_result"
    }
   ],
   "source": [
    "a = [10,20,20,30,40,50]\n",
    "a.index(20)\n",
    "\n",
    "#if 21 in a:\n",
    "#    a.index(21)\n",
    "\n",
    "a.count(20)"
   ]
  },
  {
   "cell_type": "code",
   "execution_count": 49,
   "metadata": {},
   "outputs": [
    {
     "name": "stdout",
     "output_type": "stream",
     "text": [
      "[50, 40, 30, 20, 10]\n",
      "[70, 40, 30, 25, 20, 15]\n"
     ]
    }
   ],
   "source": [
    "a = [10,20,30,40,50]\n",
    "a.reverse()\n",
    "print(a)\n",
    "\n",
    "a = [40,20,15,25,30,70]\n",
    "a.sort(reverse=True)\n",
    "print(a)"
   ]
  },
  {
   "cell_type": "code",
   "execution_count": 56,
   "metadata": {},
   "outputs": [
    {
     "name": "stdout",
     "output_type": "stream",
     "text": [
      "[0, 0, 0, 0, 0]\n",
      "[0, 0, 99, 0, 0] [0, 0, 99, 0, 0]\n",
      "[0, 0, 0, 0, 0] [0, 0, 99, 0, 0]\n"
     ]
    }
   ],
   "source": [
    "a = [0]*5\n",
    "print(a)\n",
    "b=a\n",
    "b[2] = 99\n",
    "print(a,b)  \n",
    "# 변수는 stack에 위치 값은 Heap의 주소에 저장\n",
    "# stack(변수 a,b) ----> Heap(0,0,0,0,0)의 구조이다.\n",
    "# 이런 효과를 side effect라고 한다.\n",
    "# 분리하기 위해서는 copy를 쓴다.\n",
    "\n",
    "a = [0]*5\n",
    "b = a.copy()\n",
    "b[2] = 99\n",
    "print(a,b)"
   ]
  },
  {
   "cell_type": "code",
   "execution_count": 62,
   "metadata": {},
   "outputs": [
    {
     "name": "stdout",
     "output_type": "stream",
     "text": [
      "23\n",
      "43\n",
      "14\n",
      "23\n",
      "23\n",
      "23\n",
      "43\n",
      "14\n",
      "23\n",
      "23\n",
      "0 23\n",
      "1 43\n",
      "2 14\n",
      "3 23\n",
      "4 23\n",
      "1 23\n",
      "2 43\n",
      "3 14\n",
      "4 23\n",
      "5 23\n"
     ]
    }
   ],
   "source": [
    "# 1. 전통적인 for loop\n",
    "a = [23, 43, 14, 23, 23]\n",
    "for i in range(len(a)):\n",
    "    print(a[i])\n",
    "\n",
    "# 2. 새로운 for loop\n",
    "for element in a:\n",
    "    print(element)\n",
    "    \n",
    "# 3. 인덱스 추가.\n",
    "for index, value in enumerate(a):\n",
    "    print(index,value)\n",
    "\n",
    "for index, value in enumerate(a,start=1):\n",
    "    print(index,value)"
   ]
  },
  {
   "cell_type": "code",
   "execution_count": null,
   "metadata": {},
   "outputs": [],
   "source": [
    "# 가장 작은 수와 가장 큰 수 구하기.\n",
    "min(a)\n",
    "max(a)\n",
    "sum(a)\n"
   ]
  },
  {
   "cell_type": "code",
   "execution_count": 69,
   "metadata": {},
   "outputs": [
    {
     "name": "stdout",
     "output_type": "stream",
     "text": [
      "[5, 6, 7, 8, 9, 10, 11, 12, 13, 14]\n",
      "[5, 6, 7, 8, 9, 10, 11, 12, 13, 14]\n",
      "[0, 1, 4, 9, 16, 25, 36, 49, 64, 81]\n"
     ]
    }
   ],
   "source": [
    "# 리스트 표현식 사용하기\n",
    "a = [i+5 for i in range(10)]\n",
    "b = [i+5 for i in range(10)]\n",
    "c = [i*i for i in range(10)]\n",
    "print(a,b,c,sep='\\n')"
   ]
  },
  {
   "cell_type": "code",
   "execution_count": 73,
   "metadata": {},
   "outputs": [
    {
     "name": "stdout",
     "output_type": "stream",
     "text": [
      "[0, 2, 4, 6, 8]\n",
      "[1, 3, 5, 7, 9]\n",
      "[1, 9, 25, 49, 81]\n"
     ]
    }
   ],
   "source": [
    "# 리스트 표현식에서 if문 사용하기\n",
    "a = [i for i in range(10) if i % 2 == 0]   # 짝수\n",
    "b = [i for i in range(10) if i % 2 == 1]   # 홀수\n",
    "c = [i*i for i in range(10) if i % 2 == 1] # 홀수의 제곱\n",
    "print(a,b,c,sep='\\n')"
   ]
  },
  {
   "cell_type": "code",
   "execution_count": 81,
   "metadata": {},
   "outputs": [
    {
     "data": {
      "text/plain": [
       "[2,\n",
       " 4,\n",
       " 6,\n",
       " 8,\n",
       " 10,\n",
       " 12,\n",
       " 14,\n",
       " 16,\n",
       " 18,\n",
       " 3,\n",
       " 6,\n",
       " 9,\n",
       " 12,\n",
       " 15,\n",
       " 18,\n",
       " 21,\n",
       " 24,\n",
       " 27,\n",
       " 4,\n",
       " 8,\n",
       " 12,\n",
       " 16,\n",
       " 20,\n",
       " 24,\n",
       " 28,\n",
       " 32,\n",
       " 36,\n",
       " 5,\n",
       " 10,\n",
       " 15,\n",
       " 20,\n",
       " 25,\n",
       " 30,\n",
       " 35,\n",
       " 40,\n",
       " 45,\n",
       " 6,\n",
       " 12,\n",
       " 18,\n",
       " 24,\n",
       " 30,\n",
       " 36,\n",
       " 42,\n",
       " 48,\n",
       " 54,\n",
       " 7,\n",
       " 14,\n",
       " 21,\n",
       " 28,\n",
       " 35,\n",
       " 42,\n",
       " 49,\n",
       " 56,\n",
       " 63,\n",
       " 8,\n",
       " 16,\n",
       " 24,\n",
       " 32,\n",
       " 40,\n",
       " 48,\n",
       " 56,\n",
       " 64,\n",
       " 72,\n",
       " 9,\n",
       " 18,\n",
       " 27,\n",
       " 36,\n",
       " 45,\n",
       " 54,\n",
       " 63,\n",
       " 72,\n",
       " 81]"
      ]
     },
     "execution_count": 81,
     "metadata": {},
     "output_type": "execute_result"
    }
   ],
   "source": [
    "# for 반복문과 if조건문을 여러 번 사용하기\n",
    "m = [i*k for i in range(2,10) for k in range(1,10)]\n",
    "m"
   ]
  },
  {
   "cell_type": "code",
   "execution_count": 3,
   "metadata": {},
   "outputs": [
    {
     "data": {
      "text/plain": [
       "[1, 2, 3, 4, 5, 6, 10, 12, 15, 20, 30, 60]"
      ]
     },
     "execution_count": 3,
     "metadata": {},
     "output_type": "execute_result"
    }
   ],
   "source": [
    "# 약수 만들기\n",
    "divisor=[]\n",
    "n = 60\n",
    "for i in range(1,n+1):\n",
    "    if n % i == 0:\n",
    "        divisor.append(i)\n",
    "divisor"
   ]
  },
  {
   "cell_type": "code",
   "execution_count": null,
   "metadata": {},
   "outputs": [],
   "source": [
    "stack = Last-In / First-Out\n",
    "Queue = First-In / First-Out"
   ]
  }
 ],
 "metadata": {
  "kernelspec": {
   "display_name": "Python 3",
   "language": "python",
   "name": "python3"
  },
  "language_info": {
   "codemirror_mode": {
    "name": "ipython",
    "version": 3
   },
   "file_extension": ".py",
   "mimetype": "text/x-python",
   "name": "python",
   "nbconvert_exporter": "python",
   "pygments_lexer": "ipython3",
   "version": "3.7.3"
  }
 },
 "nbformat": 4,
 "nbformat_minor": 2
}
