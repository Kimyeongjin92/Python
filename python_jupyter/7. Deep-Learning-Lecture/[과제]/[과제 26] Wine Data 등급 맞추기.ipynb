{
 "cells": [
  {
   "cell_type": "code",
   "execution_count": null,
   "metadata": {},
   "outputs": [],
   "source": [
    "#one-hot-encoding을 써야할거여~ 등급맞추기"
   ]
  },
  {
   "cell_type": "markdown",
   "metadata": {},
   "source": [
    "https://github.com/coalastudy/data-science-lv1/blob/master/week6/wine.ipynb"
   ]
  },
  {
   "cell_type": "code",
   "execution_count": 1,
   "metadata": {},
   "outputs": [
    {
     "name": "stderr",
     "output_type": "stream",
     "text": [
      "Using TensorFlow backend.\n"
     ]
    }
   ],
   "source": [
    "from keras.models import Sequential\n",
    "from keras.layers import Dense\n",
    "from keras.callbacks import ModelCheckpoint, EarlyStopping\n",
    "from sklearn.model_selection import train_test_split\n",
    "\n",
    "import pandas as pd\n",
    "import numpy  as np\n",
    "import os\n",
    "import tensorflow as tf\n",
    "import matplotlib.pyplot as plt"
   ]
  },
  {
   "cell_type": "code",
   "execution_count": 3,
   "metadata": {},
   "outputs": [],
   "source": [
    "seed = 0\n",
    "np.random.seed(seed)\n",
    "tf.set_random_seed(seed)"
   ]
  },
  {
   "cell_type": "code",
   "execution_count": 4,
   "metadata": {},
   "outputs": [],
   "source": [
    "df = pd.read_csv('../dataset/wine.csv',header=None)\n",
    "\n",
    "dataset = df.values\n",
    "X = dataset[:,0:11]\n",
    "Y = dataset[:,11]"
   ]
  },
  {
   "cell_type": "code",
   "execution_count": 5,
   "metadata": {},
   "outputs": [],
   "source": [
    "X_train, X_test, Y_train, Y_test = train_test_split(X, Y, test_size=0.3, random_state=seed)"
   ]
  },
  {
   "cell_type": "code",
   "execution_count": 6,
   "metadata": {},
   "outputs": [
    {
     "name": "stderr",
     "output_type": "stream",
     "text": [
      "WARNING: Logging before flag parsing goes to stderr.\n",
      "W0813 17:30:35.928571  4920 deprecation_wrapper.py:119] From C:\\Users\\709-000\\Anaconda3\\lib\\site-packages\\keras\\backend\\tensorflow_backend.py:74: The name tf.get_default_graph is deprecated. Please use tf.compat.v1.get_default_graph instead.\n",
      "\n",
      "W0813 17:30:35.929571  4920 deprecation_wrapper.py:119] From C:\\Users\\709-000\\Anaconda3\\lib\\site-packages\\keras\\backend\\tensorflow_backend.py:517: The name tf.placeholder is deprecated. Please use tf.compat.v1.placeholder instead.\n",
      "\n",
      "W0813 17:30:35.931571  4920 deprecation_wrapper.py:119] From C:\\Users\\709-000\\Anaconda3\\lib\\site-packages\\keras\\backend\\tensorflow_backend.py:4138: The name tf.random_uniform is deprecated. Please use tf.random.uniform instead.\n",
      "\n",
      "W0813 17:30:35.971576  4920 deprecation_wrapper.py:119] From C:\\Users\\709-000\\Anaconda3\\lib\\site-packages\\keras\\optimizers.py:790: The name tf.train.Optimizer is deprecated. Please use tf.compat.v1.train.Optimizer instead.\n",
      "\n"
     ]
    }
   ],
   "source": [
    "model = Sequential()\n",
    "model.add(Dense(30, input_dim=11, activation='relu'))\n",
    "model.add(Dense(8, activation='relu'))\n",
    "model.add(Dense(6, activation='relu'))\n",
    "model.add(Dense(1))\n",
    "\n",
    "model.compile(loss='mean_squared_error',\n",
    "             optimizer='adam',\n",
    "             metrics=['accuracy'])"
   ]
  },
  {
   "cell_type": "code",
   "execution_count": 7,
   "metadata": {},
   "outputs": [],
   "source": [
    "MODEL_DIR = './model/'\n",
    "if not os.path.exists(MODEL_DIR):\n",
    "    os.mkdir(MODEL_DIR)\n",
    "    \n",
    "modelpath=\"./model/{epoch:02d}-{val_loss:.4f}.hdf5\""
   ]
  },
  {
   "cell_type": "code",
   "execution_count": 8,
   "metadata": {},
   "outputs": [],
   "source": [
    "checkpointer = ModelCheckpoint(filepath=modelpath, monitor='val_loss',\n",
    "                               verbose=1,save_best_only=True)"
   ]
  },
  {
   "cell_type": "code",
   "execution_count": 11,
   "metadata": {},
   "outputs": [],
   "source": [
    "# 자동 중단 설정\n",
    "early_stopping_callback = EarlyStopping(monitor='val_loss',patience=100) "
   ]
  },
  {
   "cell_type": "code",
   "execution_count": 25,
   "metadata": {
    "scrolled": true
   },
   "outputs": [
    {
     "name": "stdout",
     "output_type": "stream",
     "text": [
      "\n",
      "Epoch 00001: val_loss did not improve from 0.50304\n",
      "\n",
      "Epoch 00002: val_loss did not improve from 0.50304\n",
      "\n",
      "Epoch 00003: val_loss did not improve from 0.50304\n",
      "\n",
      "Epoch 00004: val_loss did not improve from 0.50304\n",
      "\n",
      "Epoch 00005: val_loss did not improve from 0.50304\n",
      "\n",
      "Epoch 00006: val_loss did not improve from 0.50304\n",
      "\n",
      "Epoch 00007: val_loss did not improve from 0.50304\n",
      "\n",
      "Epoch 00008: val_loss did not improve from 0.50304\n",
      "\n",
      "Epoch 00009: val_loss did not improve from 0.50304\n",
      "\n",
      "Epoch 00010: val_loss did not improve from 0.50304\n",
      "\n",
      "Epoch 00011: val_loss did not improve from 0.50304\n",
      "\n",
      "Epoch 00012: val_loss did not improve from 0.50304\n",
      "\n",
      "Epoch 00013: val_loss did not improve from 0.50304\n",
      "\n",
      "Epoch 00014: val_loss did not improve from 0.50304\n",
      "\n",
      "Epoch 00015: val_loss did not improve from 0.50304\n",
      "\n",
      "Epoch 00016: val_loss did not improve from 0.50304\n",
      "\n",
      "Epoch 00017: val_loss did not improve from 0.50304\n",
      "\n",
      "Epoch 00018: val_loss did not improve from 0.50304\n",
      "\n",
      "Epoch 00019: val_loss did not improve from 0.50304\n",
      "\n",
      "Epoch 00020: val_loss did not improve from 0.50304\n",
      "\n",
      "Epoch 00021: val_loss did not improve from 0.50304\n",
      "\n",
      "Epoch 00022: val_loss did not improve from 0.50304\n",
      "\n",
      "Epoch 00023: val_loss did not improve from 0.50304\n",
      "\n",
      "Epoch 00024: val_loss did not improve from 0.50304\n",
      "\n",
      "Epoch 00025: val_loss did not improve from 0.50304\n",
      "\n",
      "Epoch 00026: val_loss did not improve from 0.50304\n",
      "\n",
      "Epoch 00027: val_loss did not improve from 0.50304\n",
      "\n",
      "Epoch 00028: val_loss did not improve from 0.50304\n",
      "\n",
      "Epoch 00029: val_loss did not improve from 0.50304\n",
      "\n",
      "Epoch 00030: val_loss did not improve from 0.50304\n",
      "\n",
      "Epoch 00031: val_loss did not improve from 0.50304\n",
      "\n",
      "Epoch 00032: val_loss did not improve from 0.50304\n",
      "\n",
      "Epoch 00033: val_loss did not improve from 0.50304\n",
      "\n",
      "Epoch 00034: val_loss did not improve from 0.50304\n",
      "\n",
      "Epoch 00035: val_loss did not improve from 0.50304\n",
      "\n",
      "Epoch 00036: val_loss did not improve from 0.50304\n",
      "\n",
      "Epoch 00037: val_loss did not improve from 0.50304\n",
      "\n",
      "Epoch 00038: val_loss did not improve from 0.50304\n",
      "\n",
      "Epoch 00039: val_loss did not improve from 0.50304\n",
      "\n",
      "Epoch 00040: val_loss did not improve from 0.50304\n",
      "\n",
      "Epoch 00041: val_loss did not improve from 0.50304\n",
      "\n",
      "Epoch 00042: val_loss did not improve from 0.50304\n",
      "\n",
      "Epoch 00043: val_loss did not improve from 0.50304\n",
      "\n",
      "Epoch 00044: val_loss did not improve from 0.50304\n",
      "\n",
      "Epoch 00045: val_loss did not improve from 0.50304\n",
      "\n",
      "Epoch 00046: val_loss did not improve from 0.50304\n",
      "\n",
      "Epoch 00047: val_loss did not improve from 0.50304\n",
      "\n",
      "Epoch 00048: val_loss did not improve from 0.50304\n",
      "\n",
      "Epoch 00049: val_loss did not improve from 0.50304\n",
      "\n",
      "Epoch 00050: val_loss did not improve from 0.50304\n",
      "\n",
      "Epoch 00051: val_loss did not improve from 0.50304\n",
      "\n",
      "Epoch 00052: val_loss did not improve from 0.50304\n",
      "\n",
      "Epoch 00053: val_loss did not improve from 0.50304\n",
      "\n",
      "Epoch 00054: val_loss did not improve from 0.50304\n",
      "\n",
      "Epoch 00055: val_loss did not improve from 0.50304\n",
      "\n",
      "Epoch 00056: val_loss did not improve from 0.50304\n",
      "\n",
      "Epoch 00057: val_loss did not improve from 0.50304\n",
      "\n",
      "Epoch 00058: val_loss did not improve from 0.50304\n",
      "\n",
      "Epoch 00059: val_loss did not improve from 0.50304\n",
      "\n",
      "Epoch 00060: val_loss did not improve from 0.50304\n",
      "\n",
      "Epoch 00061: val_loss did not improve from 0.50304\n",
      "\n",
      "Epoch 00062: val_loss did not improve from 0.50304\n",
      "\n",
      "Epoch 00063: val_loss did not improve from 0.50304\n",
      "\n",
      "Epoch 00064: val_loss did not improve from 0.50304\n",
      "\n",
      "Epoch 00065: val_loss did not improve from 0.50304\n",
      "\n",
      "Epoch 00066: val_loss did not improve from 0.50304\n",
      "\n",
      "Epoch 00067: val_loss did not improve from 0.50304\n",
      "\n",
      "Epoch 00068: val_loss did not improve from 0.50304\n",
      "\n",
      "Epoch 00069: val_loss did not improve from 0.50304\n",
      "\n",
      "Epoch 00070: val_loss did not improve from 0.50304\n",
      "\n",
      "Epoch 00071: val_loss did not improve from 0.50304\n",
      "\n",
      "Epoch 00072: val_loss did not improve from 0.50304\n",
      "\n",
      "Epoch 00073: val_loss did not improve from 0.50304\n",
      "\n",
      "Epoch 00074: val_loss did not improve from 0.50304\n",
      "\n",
      "Epoch 00075: val_loss did not improve from 0.50304\n",
      "\n",
      "Epoch 00076: val_loss did not improve from 0.50304\n",
      "\n",
      "Epoch 00077: val_loss did not improve from 0.50304\n",
      "\n",
      "Epoch 00078: val_loss did not improve from 0.50304\n",
      "\n",
      "Epoch 00079: val_loss did not improve from 0.50304\n",
      "\n",
      "Epoch 00080: val_loss did not improve from 0.50304\n",
      "\n",
      "Epoch 00081: val_loss did not improve from 0.50304\n",
      "\n",
      "Epoch 00082: val_loss did not improve from 0.50304\n",
      "\n",
      "Epoch 00083: val_loss did not improve from 0.50304\n",
      "\n",
      "Epoch 00084: val_loss did not improve from 0.50304\n",
      "\n",
      "Epoch 00085: val_loss did not improve from 0.50304\n",
      "\n",
      "Epoch 00086: val_loss did not improve from 0.50304\n",
      "\n",
      "Epoch 00087: val_loss did not improve from 0.50304\n",
      "\n",
      "Epoch 00088: val_loss did not improve from 0.50304\n",
      "\n",
      "Epoch 00089: val_loss did not improve from 0.50304\n",
      "\n",
      "Epoch 00090: val_loss did not improve from 0.50304\n",
      "\n",
      "Epoch 00091: val_loss did not improve from 0.50304\n",
      "\n",
      "Epoch 00092: val_loss did not improve from 0.50304\n",
      "\n",
      "Epoch 00093: val_loss did not improve from 0.50304\n",
      "\n",
      "Epoch 00094: val_loss did not improve from 0.50304\n",
      "\n",
      "Epoch 00095: val_loss did not improve from 0.50304\n",
      "\n",
      "Epoch 00096: val_loss did not improve from 0.50304\n",
      "\n",
      "Epoch 00097: val_loss did not improve from 0.50304\n",
      "\n",
      "Epoch 00098: val_loss did not improve from 0.50304\n",
      "\n",
      "Epoch 00099: val_loss did not improve from 0.50304\n",
      "\n",
      "Epoch 00100: val_loss did not improve from 0.50304\n",
      "\n",
      "Epoch 00101: val_loss did not improve from 0.50304\n",
      "\n",
      "Epoch 00102: val_loss did not improve from 0.50304\n",
      "\n",
      "Epoch 00103: val_loss did not improve from 0.50304\n",
      "\n",
      "Epoch 00104: val_loss did not improve from 0.50304\n",
      "\n",
      "Epoch 00105: val_loss did not improve from 0.50304\n",
      "\n",
      "Epoch 00106: val_loss did not improve from 0.50304\n",
      "\n",
      "Epoch 00107: val_loss did not improve from 0.50304\n",
      "\n",
      "Epoch 00108: val_loss did not improve from 0.50304\n",
      "\n",
      "Epoch 00109: val_loss did not improve from 0.50304\n",
      "\n",
      "Epoch 00110: val_loss did not improve from 0.50304\n",
      "\n",
      "Epoch 00111: val_loss did not improve from 0.50304\n",
      "\n",
      "Epoch 00112: val_loss did not improve from 0.50304\n",
      "\n",
      "Epoch 00113: val_loss did not improve from 0.50304\n",
      "\n",
      "Epoch 00114: val_loss did not improve from 0.50304\n",
      "\n",
      "Epoch 00115: val_loss did not improve from 0.50304\n",
      "\n",
      "Epoch 00116: val_loss did not improve from 0.50304\n",
      "\n",
      "Epoch 00117: val_loss did not improve from 0.50304\n",
      "\n",
      "Epoch 00118: val_loss did not improve from 0.50304\n",
      "\n",
      "Epoch 00119: val_loss did not improve from 0.50304\n",
      "\n",
      "Epoch 00120: val_loss did not improve from 0.50304\n",
      "\n",
      "Epoch 00121: val_loss did not improve from 0.50304\n",
      "\n",
      "Epoch 00122: val_loss did not improve from 0.50304\n",
      "\n",
      "Epoch 00123: val_loss did not improve from 0.50304\n",
      "\n",
      "Epoch 00124: val_loss did not improve from 0.50304\n",
      "\n",
      "Epoch 00125: val_loss did not improve from 0.50304\n",
      "\n",
      "Epoch 00126: val_loss did not improve from 0.50304\n",
      "\n",
      "Epoch 00127: val_loss did not improve from 0.50304\n",
      "\n",
      "Epoch 00128: val_loss did not improve from 0.50304\n",
      "\n",
      "Epoch 00129: val_loss did not improve from 0.50304\n",
      "\n",
      "Epoch 00130: val_loss did not improve from 0.50304\n",
      "\n",
      "Epoch 00131: val_loss did not improve from 0.50304\n",
      "\n",
      "Epoch 00132: val_loss did not improve from 0.50304\n",
      "\n",
      "Epoch 00133: val_loss did not improve from 0.50304\n",
      "\n",
      "Epoch 00134: val_loss did not improve from 0.50304\n",
      "\n",
      "Epoch 00135: val_loss did not improve from 0.50304\n",
      "\n",
      "Epoch 00136: val_loss did not improve from 0.50304\n",
      "\n",
      "Epoch 00137: val_loss did not improve from 0.50304\n",
      "\n",
      "Epoch 00138: val_loss did not improve from 0.50304\n",
      "\n",
      "Epoch 00139: val_loss did not improve from 0.50304\n",
      "\n",
      "Epoch 00140: val_loss did not improve from 0.50304\n",
      "\n",
      "Epoch 00141: val_loss did not improve from 0.50304\n",
      "\n",
      "Epoch 00142: val_loss did not improve from 0.50304\n",
      "\n",
      "Epoch 00143: val_loss did not improve from 0.50304\n",
      "\n",
      "Epoch 00144: val_loss did not improve from 0.50304\n",
      "\n",
      "Epoch 00145: val_loss did not improve from 0.50304\n",
      "\n",
      "Epoch 00146: val_loss did not improve from 0.50304\n",
      "\n",
      "Epoch 00147: val_loss did not improve from 0.50304\n"
     ]
    }
   ],
   "source": [
    "history = model.fit(X, Y, validation_split=0.33, epochs=3500, batch_size=500,\n",
    "                   verbose=0, callbacks=[early_stopping_callback,checkpointer])"
   ]
  },
  {
   "cell_type": "code",
   "execution_count": 26,
   "metadata": {
    "scrolled": true
   },
   "outputs": [
    {
     "name": "stdout",
     "output_type": "stream",
     "text": [
      "실제등급:6.000,예상등급:5.522\n",
      "실제등급:6.000,예상등급:6.546\n",
      "실제등급:6.000,예상등급:5.608\n",
      "실제등급:5.000,예상등급:4.805\n",
      "실제등급:8.000,예상등급:6.230\n",
      "실제등급:5.000,예상등급:5.811\n",
      "실제등급:6.000,예상등급:6.345\n",
      "실제등급:6.000,예상등급:5.439\n",
      "실제등급:6.000,예상등급:6.164\n",
      "실제등급:6.000,예상등급:6.237\n"
     ]
    }
   ],
   "source": [
    "# 모델의 학습이 어느 정도 되었는지 확인하기 위해 \n",
    "# 예측 값과 실제 값을 비교하는 부분을 추가한다.\n",
    "\n",
    "Y_prediction = model.predict(X_test).flatten()\n",
    "for i in range(10):\n",
    "    label = Y_test[i]\n",
    "    prediction = Y_prediction[i]\n",
    "    print(\"실제등급:{:.3f},예상등급:{:.3f}\".format(label,prediction))"
   ]
  },
  {
   "cell_type": "code",
   "execution_count": 27,
   "metadata": {},
   "outputs": [],
   "source": [
    "# y_vloss에 테스트셋으로 실험 결과의 오차 값을 저장\n",
    "y_vloss = history.history['val_loss']"
   ]
  },
  {
   "cell_type": "code",
   "execution_count": 28,
   "metadata": {},
   "outputs": [],
   "source": [
    "# y_acc에 학습셋으로 측정한 정확도의 값을 저장\n",
    "y_acc = history.history['acc']"
   ]
  },
  {
   "cell_type": "code",
   "execution_count": 29,
   "metadata": {
    "scrolled": true
   },
   "outputs": [
    {
     "data": {
      "text/plain": [
       "<function matplotlib.pyplot.show(*args, **kw)>"
      ]
     },
     "execution_count": 29,
     "metadata": {},
     "output_type": "execute_result"
    },
    {
     "data": {
      "image/png": "[encoded data removed]",
      "text/plain": [
       "<Figure size 432x288 with 1 Axes>"
      ]
     },
     "metadata": {
      "needs_background": "light"
     },
     "output_type": "display_data"
    }
   ],
   "source": [
    "# x값을 지정하고 정확도를 파란색으로, 오차를 빨간색으로 표시\n",
    "x_len = np.arange(len(y_acc))\n",
    "plt.plot(x_len, y_vloss, \"o\", c=\"red\", markersize=3)\n",
    "plt.plot(x_len, y_acc, \"o\", c= \"blue\",markersize=3)\n",
    "\n",
    "plt.show"
   ]
  },
  {
   "cell_type": "code",
   "execution_count": null,
   "metadata": {},
   "outputs": [],
   "source": []
  }
 ],
 "metadata": {
  "kernelspec": {
   "display_name": "Python 3",
   "language": "python",
   "name": "python3"
  },
  "language_info": {
   "codemirror_mode": {
    "name": "ipython",
    "version": 3
   },
   "file_extension": ".py",
   "mimetype": "text/x-python",
   "name": "python",
   "nbconvert_exporter": "python",
   "pygments_lexer": "ipython3",
   "version": "3.7.3"
  }
 },
 "nbformat": 4,
 "nbformat_minor": 2
}
