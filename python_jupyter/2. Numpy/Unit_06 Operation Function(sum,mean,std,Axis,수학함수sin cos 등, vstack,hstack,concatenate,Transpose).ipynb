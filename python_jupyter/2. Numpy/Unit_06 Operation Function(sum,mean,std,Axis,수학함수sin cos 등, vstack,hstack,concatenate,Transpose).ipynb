{
 "cells": [
  {
   "cell_type": "markdown",
   "metadata": {},
   "source": [
    "# <span style='color:teal'> 1. Sum & mean & std </span>"
   ]
  },
  {
   "cell_type": "code",
   "execution_count": 2,
   "metadata": {},
   "outputs": [],
   "source": [
    "import numpy as np"
   ]
  },
  {
   "cell_type": "code",
   "execution_count": 28,
   "metadata": {},
   "outputs": [
    {
     "name": "stdout",
     "output_type": "stream",
     "text": [
      "[ 1  2  3  4  5  6  7  8  9 10]\n",
      "55.0\n",
      "5\n",
      "2.8722813232690143\n"
     ]
    }
   ],
   "source": [
    "a = np.arange(1,11)\n",
    "print(a)\n",
    "print(a.sum(dtype=np.float)) # 전체 합\n",
    "print(a.mean(dtype=np.int))  # 전체 평균\n",
    "print(a.std())               # 전체 표준편차."
   ]
  },
  {
   "cell_type": "markdown",
   "metadata": {},
   "source": [
    "# <span style='color:teal'> 2. Axis </span>\n",
    "- 모든 Operation function을 실행할 때, 기준이 되는 dimension 축\n",
    "- 1 : → 방향으로 더하기, 각 행의 연산\n",
    "- 0 : ↓ 방향으로 더하기, 각 열의 연산"
   ]
  },
  {
   "cell_type": "code",
   "execution_count": 37,
   "metadata": {},
   "outputs": [
    {
     "name": "stdout",
     "output_type": "stream",
     "text": [
      "[[ 1  2  3  4]\n",
      " [ 5  6  7  8]\n",
      " [ 9 10 11 12]]\n",
      "[10 26 42]\n",
      "[15 18 21 24]\n",
      "[ 2.5  6.5 10.5]\n",
      "[5 6 7 8]\n",
      "[1.11803399 1.11803399 1.11803399]\n",
      "[3.26598632 3.26598632 3.26598632 3.26598632]\n"
     ]
    }
   ],
   "source": [
    "b = np.arange(1,13).reshape(3,4)\n",
    "print(b)\n",
    "\n",
    "print(b.sum(axis=1)) # → 방향\n",
    "print(b.sum(axis=0)) # ↓ 방향\n",
    "\n",
    "print(b.mean(axis=1)) # → 방향\n",
    "print(b.mean(axis=0,dtype=np.int)) # ↓ 방향\n",
    "\n",
    "print(b.std(axis=1)) # → 방향\n",
    "print(b.std(axis=0)) # ↓ 방향"
   ]
  },
  {
   "cell_type": "markdown",
   "metadata": {},
   "source": [
    "# <span style='color:teal'> 3. Mathematical functions(수학 함수)</span>\n",
    "- 지수 함수: exp, expml, exp2, log, log10, loglp, log2, power, sqrt\n",
    "- 삼각 함수: sin, cos, tan, arcsin, arccos, arctan\n",
    "- Hyperbolic: sinh, cosh, tanh, arcsinh, arccosh, arctanh"
   ]
  },
  {
   "cell_type": "code",
   "execution_count": 38,
   "metadata": {},
   "outputs": [
    {
     "data": {
      "text/plain": [
       "array([[2.71828183e+00, 7.38905610e+00, 2.00855369e+01, 5.45981500e+01],\n",
       "       [1.48413159e+02, 4.03428793e+02, 1.09663316e+03, 2.98095799e+03],\n",
       "       [8.10308393e+03, 2.20264658e+04, 5.98741417e+04, 1.62754791e+05]])"
      ]
     },
     "execution_count": 38,
     "metadata": {},
     "output_type": "execute_result"
    }
   ],
   "source": [
    "np.exp(b)"
   ]
  },
  {
   "cell_type": "code",
   "execution_count": 51,
   "metadata": {},
   "outputs": [
    {
     "data": {
      "text/plain": [
       "array([[1.        , 1.41421356, 1.73205081, 2.        ],\n",
       "       [2.23606798, 2.44948974, 2.64575131, 2.82842712],\n",
       "       [3.        , 3.16227766, 3.31662479, 3.46410162]])"
      ]
     },
     "execution_count": 51,
     "metadata": {},
     "output_type": "execute_result"
    }
   ],
   "source": [
    "np.sqrt(b)"
   ]
  },
  {
   "cell_type": "markdown",
   "metadata": {},
   "source": [
    "# <span style='color:teal'> 4. Concatenate(Numpy array를 합치는 함수)</span>\n",
    "- 괄호가 2번 들어감. (())"
   ]
  },
  {
   "cell_type": "markdown",
   "metadata": {},
   "source": [
    "### 1) Vstack = concatenate(axis=0)"
   ]
  },
  {
   "cell_type": "code",
   "execution_count": 71,
   "metadata": {},
   "outputs": [
    {
     "name": "stdout",
     "output_type": "stream",
     "text": [
      "[[1 2]\n",
      " [3 4]] <class 'numpy.ndarray'>\n",
      "[[5 6]] <class 'numpy.ndarray'>\n"
     ]
    },
    {
     "data": {
      "text/plain": [
       "array([[1, 2],\n",
       "       [3, 4],\n",
       "       [5, 6]])"
      ]
     },
     "execution_count": 71,
     "metadata": {},
     "output_type": "execute_result"
    }
   ],
   "source": [
    "# vertical stack == rbind\n",
    "\n",
    "a = np.array([[1,2],[3,4]])\n",
    "b = np.array([[5,6]])\n",
    "print(a,type(a))\n",
    "print(b,type(b))\n",
    "\n",
    "np.vstack((a,b))"
   ]
  },
  {
   "cell_type": "code",
   "execution_count": 72,
   "metadata": {},
   "outputs": [
    {
     "name": "stdout",
     "output_type": "stream",
     "text": [
      "[[1 2]\n",
      " [3 4]\n",
      " [5 6]]\n"
     ]
    }
   ],
   "source": [
    "print(np.concatenate((a,b), axis=0)) # 위의 결과와 동일 (axis = 0, 열 방향으로 쌓기)"
   ]
  },
  {
   "cell_type": "markdown",
   "metadata": {},
   "source": [
    "### 2) hstack = concatenate(axis=1)"
   ]
  },
  {
   "cell_type": "code",
   "execution_count": 82,
   "metadata": {},
   "outputs": [
    {
     "name": "stdout",
     "output_type": "stream",
     "text": [
      "[[1]\n",
      " [2]\n",
      " [3]]\n",
      "[[2]\n",
      " [3]\n",
      " [4]]\n"
     ]
    },
    {
     "data": {
      "text/plain": [
       "array([[1, 2],\n",
       "       [2, 3],\n",
       "       [3, 4]])"
      ]
     },
     "execution_count": 82,
     "metadata": {},
     "output_type": "execute_result"
    }
   ],
   "source": [
    "a = np.array([[1],[2],[3]])\n",
    "b = np.array([[2],[3],[4]])\n",
    "print(a)\n",
    "print(b)\n",
    "np.hstack((a,b))"
   ]
  },
  {
   "cell_type": "code",
   "execution_count": 83,
   "metadata": {},
   "outputs": [
    {
     "data": {
      "text/plain": [
       "array([[1, 2],\n",
       "       [2, 3],\n",
       "       [3, 4]])"
      ]
     },
     "execution_count": 83,
     "metadata": {},
     "output_type": "execute_result"
    }
   ],
   "source": [
    "np.concatenate((a,b),axis=1)"
   ]
  },
  {
   "cell_type": "markdown",
   "metadata": {},
   "source": [
    "### 3) Transpose"
   ]
  },
  {
   "cell_type": "code",
   "execution_count": 88,
   "metadata": {},
   "outputs": [
    {
     "name": "stdout",
     "output_type": "stream",
     "text": [
      "[[1 2 3]]\n",
      "[[2 3 4]]\n"
     ]
    },
    {
     "data": {
      "text/plain": [
       "array([[1, 2, 3, 2, 3, 4]])"
      ]
     },
     "execution_count": 88,
     "metadata": {},
     "output_type": "execute_result"
    }
   ],
   "source": [
    "print(a.T)\n",
    "print(b.T)\n",
    "np.hstack((a.T,b.T))"
   ]
  }
 ],
 "metadata": {
  "kernelspec": {
   "display_name": "Python 3",
   "language": "python",
   "name": "python3"
  },
  "language_info": {
   "codemirror_mode": {
    "name": "ipython",
    "version": 3
   },
   "file_extension": ".py",
   "mimetype": "text/x-python",
   "name": "python",
   "nbconvert_exporter": "python",
   "pygments_lexer": "ipython3",
   "version": "3.7.3"
  }
 },
 "nbformat": 4,
 "nbformat_minor": 2
}
