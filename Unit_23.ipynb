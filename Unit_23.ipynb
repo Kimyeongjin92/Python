{
 "cells": [
  {
   "cell_type": "markdown",
   "metadata": {},
   "source": [
    "# Unit23: 2차원 리스트 사용하기."
   ]
  },
  {
   "cell_type": "code",
   "execution_count": 44,
   "metadata": {},
   "outputs": [
    {
     "name": "stdout",
     "output_type": "stream",
     "text": [
      "[   [10, 20],\n",
      "    [30, 40],\n",
      "    [50, 60]]\n",
      "10 20 \n",
      "500 600 700 \n",
      "9 \n",
      "30 40 \n",
      "8 \n",
      "800 900 1000 \n",
      "[[0, 0], [0, 0], [0, 0]]\n",
      "[[0, 0], [0, 0], [0, 0]]\n",
      "[[0, 0], [0, 0], [0, 0]]\n",
      "[[0, 0, 0], [0], [0, 0, 0], [0, 0], [0, 0, 0, 0, 0]]\n",
      "[[0, 0, 0], [0], [0, 0, 0], [0, 0], [0, 0, 0, 0, 0]]\n"
     ]
    }
   ],
   "source": [
    "a = [[10, 20], [30, 40], [50, 60]]\n",
    "from pprint import pprint\n",
    "pprint(a, indent=4, width=20)\n",
    "\n",
    "a = [[10, 20],\n",
    "     [500, 600, 700],\n",
    "     [9],\n",
    "     [30, 40],\n",
    "     [8],\n",
    "     [800, 900, 1000]]\n",
    "for i in a:\n",
    "    for k in i:\n",
    "        print(k, end=' ')\n",
    "    print()\n",
    "\n",
    "a = []\n",
    "for i in range(3):\n",
    "    line = []\n",
    "    for k in range(2):\n",
    "        line.append(0)\n",
    "    a.append(line)\n",
    "print(a)\n",
    "\n",
    "# [  []  for i in range(3)] : i대신에 []가 들어간 것\n",
    "a = [[0 for k in range(2)] for i in range(3)]\n",
    "print(a)\n",
    "\n",
    "a = [[0]*2 for i in range(3)] # [0,1,2]\n",
    "print(a)\n",
    "\n",
    "a = [3,1,3,2,5]\n",
    "b = []\n",
    "for i in a:\n",
    "    line = []\n",
    "    for k in range(i):\n",
    "        line.append(0)\n",
    "    b.append(line)\n",
    "    \n",
    "print(b)\n",
    "\n",
    "a = [[0]* i for i in [3,1,3,2,5]]\n",
    "print(a)\n",
    "\n",
    "# 1차원에서의 copy와 2차원에서의 copy는 다르다.\n",
    "# 1차원에서는 b = a.copy()          (쉘로우 카피)\n",
    "# 2차원에서는 b = copy.deepcopy(a)  (딥 카피)"
   ]
  },
  {
   "cell_type": "code",
   "execution_count": 41,
   "metadata": {},
   "outputs": [
    {
     "data": {
      "text/plain": [
       "1"
      ]
     },
     "execution_count": 41,
     "metadata": {},
     "output_type": "execute_result"
    }
   ],
   "source": []
  }
 ],
 "metadata": {
  "kernelspec": {
   "display_name": "Python 3",
   "language": "python",
   "name": "python3"
  },
  "language_info": {
   "codemirror_mode": {
    "name": "ipython",
    "version": 3
   },
   "file_extension": ".py",
   "mimetype": "text/x-python",
   "name": "python",
   "nbconvert_exporter": "python",
   "pygments_lexer": "ipython3",
   "version": "3.7.3"
  }
 },
 "nbformat": 4,
 "nbformat_minor": 2
}
